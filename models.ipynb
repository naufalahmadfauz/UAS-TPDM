{
 "cells": [
  {
   "cell_type": "code",
   "execution_count": 31,
   "id": "0e4a4ae7-c095-4270-a7a8-24d64ffcbeb4",
   "metadata": {},
   "outputs": [],
   "source": [
    "import pandas as pd\n",
    "import numpy as np\n",
    "import matplotlib.pyplot"
   ]
  },
  {
   "cell_type": "code",
   "execution_count": 32,
   "id": "ae7763c6-569e-4001-8522-957e58b2c10c",
   "metadata": {},
   "outputs": [
    {
     "data": {
      "text/plain": "              PM10        PM2.5          SO2           CO           O3  \\\ncount  8570.000000  8570.000000  7742.000000  8569.000000  7305.000000   \nmean     25.969895    41.947025    18.926505    13.431206    22.595893   \nstd      17.382096    26.397298    14.115260     7.277558    17.755493   \nmin       0.000000     0.000000     0.000000     0.000000     0.000000   \n25%      14.000000    22.000000    10.000000     8.000000     5.000000   \n50%      19.000000    37.000000    19.000000    11.000000    22.000000   \n75%      34.000000    59.000000    24.000000    19.000000    35.000000   \nmax     179.000000   174.000000    82.000000    43.000000   151.000000   \n\n               NO2  \ncount  8569.000000  \nmean      6.930447  \nstd       7.526134  \nmin       0.000000  \n25%       3.000000  \n50%       4.000000  \n75%       7.000000  \nmax      63.000000  ",
      "text/html": "<div>\n<style scoped>\n    .dataframe tbody tr th:only-of-type {\n        vertical-align: middle;\n    }\n\n    .dataframe tbody tr th {\n        vertical-align: top;\n    }\n\n    .dataframe thead th {\n        text-align: right;\n    }\n</style>\n<table border=\"1\" class=\"dataframe\">\n  <thead>\n    <tr style=\"text-align: right;\">\n      <th></th>\n      <th>PM10</th>\n      <th>PM2.5</th>\n      <th>SO2</th>\n      <th>CO</th>\n      <th>O3</th>\n      <th>NO2</th>\n    </tr>\n  </thead>\n  <tbody>\n    <tr>\n      <th>count</th>\n      <td>8570.000000</td>\n      <td>8570.000000</td>\n      <td>7742.000000</td>\n      <td>8569.000000</td>\n      <td>7305.000000</td>\n      <td>8569.000000</td>\n    </tr>\n    <tr>\n      <th>mean</th>\n      <td>25.969895</td>\n      <td>41.947025</td>\n      <td>18.926505</td>\n      <td>13.431206</td>\n      <td>22.595893</td>\n      <td>6.930447</td>\n    </tr>\n    <tr>\n      <th>std</th>\n      <td>17.382096</td>\n      <td>26.397298</td>\n      <td>14.115260</td>\n      <td>7.277558</td>\n      <td>17.755493</td>\n      <td>7.526134</td>\n    </tr>\n    <tr>\n      <th>min</th>\n      <td>0.000000</td>\n      <td>0.000000</td>\n      <td>0.000000</td>\n      <td>0.000000</td>\n      <td>0.000000</td>\n      <td>0.000000</td>\n    </tr>\n    <tr>\n      <th>25%</th>\n      <td>14.000000</td>\n      <td>22.000000</td>\n      <td>10.000000</td>\n      <td>8.000000</td>\n      <td>5.000000</td>\n      <td>3.000000</td>\n    </tr>\n    <tr>\n      <th>50%</th>\n      <td>19.000000</td>\n      <td>37.000000</td>\n      <td>19.000000</td>\n      <td>11.000000</td>\n      <td>22.000000</td>\n      <td>4.000000</td>\n    </tr>\n    <tr>\n      <th>75%</th>\n      <td>34.000000</td>\n      <td>59.000000</td>\n      <td>24.000000</td>\n      <td>19.000000</td>\n      <td>35.000000</td>\n      <td>7.000000</td>\n    </tr>\n    <tr>\n      <th>max</th>\n      <td>179.000000</td>\n      <td>174.000000</td>\n      <td>82.000000</td>\n      <td>43.000000</td>\n      <td>151.000000</td>\n      <td>63.000000</td>\n    </tr>\n  </tbody>\n</table>\n</div>"
     },
     "execution_count": 32,
     "metadata": {},
     "output_type": "execute_result"
    }
   ],
   "source": [
    "df = pd.read_csv('dataset.csv')\n",
    "df.describe()"
   ]
  },
  {
   "cell_type": "code",
   "execution_count": 33,
   "id": "50ef424b-3fc1-4fa7-becf-2ceb1236ff2d",
   "metadata": {},
   "outputs": [
    {
     "name": "stdout",
     "output_type": "stream",
     "text": [
      "Column datatypes: \n",
      "Date                   object\n",
      "PM10                  float64\n",
      "PM2.5                 float64\n",
      "SO2                   float64\n",
      "CO                    float64\n",
      "O3                    float64\n",
      "NO2                   float64\n",
      "Max                    object\n",
      "Critical Component     object\n",
      "Category               object\n",
      "dtype: object\n"
     ]
    }
   ],
   "source": [
    "print(\"Column datatypes: \")\n",
    "print(df.dtypes)"
   ]
  },
  {
   "cell_type": "code",
   "execution_count": 34,
   "id": "268365f6-6055-401a-b120-7d634d77d356",
   "metadata": {},
   "outputs": [
    {
     "name": "stdout",
     "output_type": "stream",
     "text": [
      "Missing values distribution: \n",
      "Date                  0.000000\n",
      "PM10                  0.021689\n",
      "PM2.5                 0.021689\n",
      "SO2                   0.116210\n",
      "CO                    0.021804\n",
      "O3                    0.166096\n",
      "NO2                   0.021804\n",
      "Max                   0.000114\n",
      "Critical Component    0.021689\n",
      "Category              0.000228\n",
      "dtype: float64\n",
      "\n"
     ]
    }
   ],
   "source": [
    "print(\"Missing values distribution: \")\n",
    "print(df.isnull().mean())\n",
    "print(\"\")"
   ]
  },
  {
   "cell_type": "code",
   "execution_count": 35,
   "id": "2375530d-a462-4d5b-9c0a-fc4eee87f35d",
   "metadata": {},
   "outputs": [],
   "source": [
    "df['HealthIndex'] = np.where(df['Category']=='BAIK', 1,0)"
   ]
  },
  {
   "cell_type": "code",
   "execution_count": 36,
   "id": "1f1254e6-993e-468d-bcf6-78085420bb99",
   "metadata": {},
   "outputs": [
    {
     "data": {
      "text/plain": "                Date  PM10  PM2.5  SO2    CO   O3  NO2 Max Critical Component  \\\n0  1/1/2021 00:00:00  13.0   40.0  0.0  25.0  0.0  0.0  40              PM2.5   \n1  1/1/2021 01:00:00  12.0   38.0  0.0  24.0  0.0  0.0  38              PM2.5   \n2  1/1/2021 02:00:00  11.0   35.0  0.0  23.0  0.0  0.0  35              PM2.5   \n3  1/1/2021 03:00:00  10.0   32.0  0.0  22.0  0.0  0.0  32              PM2.5   \n4  1/1/2021 04:00:00   9.0   29.0  0.0  21.0  0.0  0.0  29              PM2.5   \n\n  Category  HealthIndex  \n0     BAIK            1  \n1     BAIK            1  \n2     BAIK            1  \n3     BAIK            1  \n4     BAIK            1  ",
      "text/html": "<div>\n<style scoped>\n    .dataframe tbody tr th:only-of-type {\n        vertical-align: middle;\n    }\n\n    .dataframe tbody tr th {\n        vertical-align: top;\n    }\n\n    .dataframe thead th {\n        text-align: right;\n    }\n</style>\n<table border=\"1\" class=\"dataframe\">\n  <thead>\n    <tr style=\"text-align: right;\">\n      <th></th>\n      <th>Date</th>\n      <th>PM10</th>\n      <th>PM2.5</th>\n      <th>SO2</th>\n      <th>CO</th>\n      <th>O3</th>\n      <th>NO2</th>\n      <th>Max</th>\n      <th>Critical Component</th>\n      <th>Category</th>\n      <th>HealthIndex</th>\n    </tr>\n  </thead>\n  <tbody>\n    <tr>\n      <th>0</th>\n      <td>1/1/2021 00:00:00</td>\n      <td>13.0</td>\n      <td>40.0</td>\n      <td>0.0</td>\n      <td>25.0</td>\n      <td>0.0</td>\n      <td>0.0</td>\n      <td>40</td>\n      <td>PM2.5</td>\n      <td>BAIK</td>\n      <td>1</td>\n    </tr>\n    <tr>\n      <th>1</th>\n      <td>1/1/2021 01:00:00</td>\n      <td>12.0</td>\n      <td>38.0</td>\n      <td>0.0</td>\n      <td>24.0</td>\n      <td>0.0</td>\n      <td>0.0</td>\n      <td>38</td>\n      <td>PM2.5</td>\n      <td>BAIK</td>\n      <td>1</td>\n    </tr>\n    <tr>\n      <th>2</th>\n      <td>1/1/2021 02:00:00</td>\n      <td>11.0</td>\n      <td>35.0</td>\n      <td>0.0</td>\n      <td>23.0</td>\n      <td>0.0</td>\n      <td>0.0</td>\n      <td>35</td>\n      <td>PM2.5</td>\n      <td>BAIK</td>\n      <td>1</td>\n    </tr>\n    <tr>\n      <th>3</th>\n      <td>1/1/2021 03:00:00</td>\n      <td>10.0</td>\n      <td>32.0</td>\n      <td>0.0</td>\n      <td>22.0</td>\n      <td>0.0</td>\n      <td>0.0</td>\n      <td>32</td>\n      <td>PM2.5</td>\n      <td>BAIK</td>\n      <td>1</td>\n    </tr>\n    <tr>\n      <th>4</th>\n      <td>1/1/2021 04:00:00</td>\n      <td>9.0</td>\n      <td>29.0</td>\n      <td>0.0</td>\n      <td>21.0</td>\n      <td>0.0</td>\n      <td>0.0</td>\n      <td>29</td>\n      <td>PM2.5</td>\n      <td>BAIK</td>\n      <td>1</td>\n    </tr>\n  </tbody>\n</table>\n</div>"
     },
     "execution_count": 36,
     "metadata": {},
     "output_type": "execute_result"
    }
   ],
   "source": [
    "df.head(5)"
   ]
  },
  {
   "cell_type": "code",
   "execution_count": 37,
   "id": "cc8a98f7-1a9e-47c9-9c97-562e3d870601",
   "metadata": {},
   "outputs": [
    {
     "data": {
      "text/plain": "<AxesSubplot: >"
     },
     "execution_count": 37,
     "metadata": {},
     "output_type": "execute_result"
    },
    {
     "data": {
      "text/plain": "<Figure size 640x480 with 1 Axes>",
      "image/png": "[encoded data removed]"
     },
     "metadata": {},
     "output_type": "display_data"
    }
   ],
   "source": [
    "df[\"Category\"].hist()"
   ]
  },
  {
   "cell_type": "code",
   "execution_count": 38,
   "id": "29d64b1d-ebbd-49f8-b451-41b246638c68",
   "metadata": {},
   "outputs": [
    {
     "data": {
      "text/plain": "<AxesSubplot: >"
     },
     "execution_count": 38,
     "metadata": {},
     "output_type": "execute_result"
    },
    {
     "data": {
      "text/plain": "<Figure size 640x480 with 1 Axes>",
      "image/png": "[encoded data removed]"
     },
     "metadata": {},
     "output_type": "display_data"
    }
   ],
   "source": [
    "df[\"HealthIndex\"].hist()"
   ]
  },
  {
   "cell_type": "code",
   "execution_count": 39,
   "id": "8c1ca235",
   "metadata": {},
   "outputs": [
    {
     "data": {
      "text/plain": "                Date  PM10  PM2.5  SO2    CO   O3  NO2 Max Critical Component  \\\n0  1/1/2021 00:00:00  13.0   40.0  0.0  25.0  0.0  0.0  40              PM2.5   \n1  1/1/2021 01:00:00  12.0   38.0  0.0  24.0  0.0  0.0  38              PM2.5   \n2  1/1/2021 02:00:00  11.0   35.0  0.0  23.0  0.0  0.0  35              PM2.5   \n3  1/1/2021 03:00:00  10.0   32.0  0.0  22.0  0.0  0.0  32              PM2.5   \n4  1/1/2021 04:00:00   9.0   29.0  0.0  21.0  0.0  0.0  29              PM2.5   \n\n  Category  HealthIndex  \n0     BAIK            1  \n1     BAIK            1  \n2     BAIK            1  \n3     BAIK            1  \n4     BAIK            1  ",
      "text/html": "<div>\n<style scoped>\n    .dataframe tbody tr th:only-of-type {\n        vertical-align: middle;\n    }\n\n    .dataframe tbody tr th {\n        vertical-align: top;\n    }\n\n    .dataframe thead th {\n        text-align: right;\n    }\n</style>\n<table border=\"1\" class=\"dataframe\">\n  <thead>\n    <tr style=\"text-align: right;\">\n      <th></th>\n      <th>Date</th>\n      <th>PM10</th>\n      <th>PM2.5</th>\n      <th>SO2</th>\n      <th>CO</th>\n      <th>O3</th>\n      <th>NO2</th>\n      <th>Max</th>\n      <th>Critical Component</th>\n      <th>Category</th>\n      <th>HealthIndex</th>\n    </tr>\n  </thead>\n  <tbody>\n    <tr>\n      <th>0</th>\n      <td>1/1/2021 00:00:00</td>\n      <td>13.0</td>\n      <td>40.0</td>\n      <td>0.0</td>\n      <td>25.0</td>\n      <td>0.0</td>\n      <td>0.0</td>\n      <td>40</td>\n      <td>PM2.5</td>\n      <td>BAIK</td>\n      <td>1</td>\n    </tr>\n    <tr>\n      <th>1</th>\n      <td>1/1/2021 01:00:00</td>\n      <td>12.0</td>\n      <td>38.0</td>\n      <td>0.0</td>\n      <td>24.0</td>\n      <td>0.0</td>\n      <td>0.0</td>\n      <td>38</td>\n      <td>PM2.5</td>\n      <td>BAIK</td>\n      <td>1</td>\n    </tr>\n    <tr>\n      <th>2</th>\n      <td>1/1/2021 02:00:00</td>\n      <td>11.0</td>\n      <td>35.0</td>\n      <td>0.0</td>\n      <td>23.0</td>\n      <td>0.0</td>\n      <td>0.0</td>\n      <td>35</td>\n      <td>PM2.5</td>\n      <td>BAIK</td>\n      <td>1</td>\n    </tr>\n    <tr>\n      <th>3</th>\n      <td>1/1/2021 03:00:00</td>\n      <td>10.0</td>\n      <td>32.0</td>\n      <td>0.0</td>\n      <td>22.0</td>\n      <td>0.0</td>\n      <td>0.0</td>\n      <td>32</td>\n      <td>PM2.5</td>\n      <td>BAIK</td>\n      <td>1</td>\n    </tr>\n    <tr>\n      <th>4</th>\n      <td>1/1/2021 04:00:00</td>\n      <td>9.0</td>\n      <td>29.0</td>\n      <td>0.0</td>\n      <td>21.0</td>\n      <td>0.0</td>\n      <td>0.0</td>\n      <td>29</td>\n      <td>PM2.5</td>\n      <td>BAIK</td>\n      <td>1</td>\n    </tr>\n  </tbody>\n</table>\n</div>"
     },
     "execution_count": 39,
     "metadata": {},
     "output_type": "execute_result"
    }
   ],
   "source": [
    "df.head()"
   ]
  },
  {
   "cell_type": "code",
   "execution_count": 40,
   "id": "5777d610",
   "metadata": {},
   "outputs": [],
   "source": [
    "to_drop = ['Max',\n",
    "           'Critical Component']"
   ]
  },
  {
   "cell_type": "code",
   "execution_count": 41,
   "id": "3e1d80b4",
   "metadata": {},
   "outputs": [],
   "source": [
    "df.drop(to_drop, inplace=True, axis=1)"
   ]
  },
  {
   "cell_type": "code",
   "execution_count": 42,
   "id": "929d9103",
   "metadata": {},
   "outputs": [
    {
     "data": {
      "text/plain": "                Date  PM10  PM2.5  SO2    CO   O3  NO2 Category  HealthIndex\n0  1/1/2021 00:00:00  13.0   40.0  0.0  25.0  0.0  0.0     BAIK            1\n1  1/1/2021 01:00:00  12.0   38.0  0.0  24.0  0.0  0.0     BAIK            1\n2  1/1/2021 02:00:00  11.0   35.0  0.0  23.0  0.0  0.0     BAIK            1\n3  1/1/2021 03:00:00  10.0   32.0  0.0  22.0  0.0  0.0     BAIK            1\n4  1/1/2021 04:00:00   9.0   29.0  0.0  21.0  0.0  0.0     BAIK            1",
      "text/html": "<div>\n<style scoped>\n    .dataframe tbody tr th:only-of-type {\n        vertical-align: middle;\n    }\n\n    .dataframe tbody tr th {\n        vertical-align: top;\n    }\n\n    .dataframe thead th {\n        text-align: right;\n    }\n</style>\n<table border=\"1\" class=\"dataframe\">\n  <thead>\n    <tr style=\"text-align: right;\">\n      <th></th>\n      <th>Date</th>\n      <th>PM10</th>\n      <th>PM2.5</th>\n      <th>SO2</th>\n      <th>CO</th>\n      <th>O3</th>\n      <th>NO2</th>\n      <th>Category</th>\n      <th>HealthIndex</th>\n    </tr>\n  </thead>\n  <tbody>\n    <tr>\n      <th>0</th>\n      <td>1/1/2021 00:00:00</td>\n      <td>13.0</td>\n      <td>40.0</td>\n      <td>0.0</td>\n      <td>25.0</td>\n      <td>0.0</td>\n      <td>0.0</td>\n      <td>BAIK</td>\n      <td>1</td>\n    </tr>\n    <tr>\n      <th>1</th>\n      <td>1/1/2021 01:00:00</td>\n      <td>12.0</td>\n      <td>38.0</td>\n      <td>0.0</td>\n      <td>24.0</td>\n      <td>0.0</td>\n      <td>0.0</td>\n      <td>BAIK</td>\n      <td>1</td>\n    </tr>\n    <tr>\n      <th>2</th>\n      <td>1/1/2021 02:00:00</td>\n      <td>11.0</td>\n      <td>35.0</td>\n      <td>0.0</td>\n      <td>23.0</td>\n      <td>0.0</td>\n      <td>0.0</td>\n      <td>BAIK</td>\n      <td>1</td>\n    </tr>\n    <tr>\n      <th>3</th>\n      <td>1/1/2021 03:00:00</td>\n      <td>10.0</td>\n      <td>32.0</td>\n      <td>0.0</td>\n      <td>22.0</td>\n      <td>0.0</td>\n      <td>0.0</td>\n      <td>BAIK</td>\n      <td>1</td>\n    </tr>\n    <tr>\n      <th>4</th>\n      <td>1/1/2021 04:00:00</td>\n      <td>9.0</td>\n      <td>29.0</td>\n      <td>0.0</td>\n      <td>21.0</td>\n      <td>0.0</td>\n      <td>0.0</td>\n      <td>BAIK</td>\n      <td>1</td>\n    </tr>\n  </tbody>\n</table>\n</div>"
     },
     "execution_count": 42,
     "metadata": {},
     "output_type": "execute_result"
    }
   ],
   "source": [
    "df.head()"
   ]
  },
  {
   "cell_type": "code",
   "execution_count": 43,
   "id": "1ee4f221",
   "metadata": {},
   "outputs": [
    {
     "data": {
      "text/plain": "Date              0\nPM10            190\nPM2.5           190\nSO2            1018\nCO              191\nO3             1455\nNO2             191\nCategory          2\nHealthIndex       0\ndtype: int64"
     },
     "execution_count": 43,
     "metadata": {},
     "output_type": "execute_result"
    }
   ],
   "source": [
    "df.isna().sum()"
   ]
  },
  {
   "cell_type": "code",
   "execution_count": 44,
   "id": "c08ef2b0",
   "metadata": {},
   "outputs": [
    {
     "data": {
      "text/plain": "0"
     },
     "execution_count": 44,
     "metadata": {},
     "output_type": "execute_result"
    }
   ],
   "source": [
    "rata_cate = df['SO2'].mean()\n",
    "df['SO2'] = df['SO2'].fillna(rata_cate)\n",
    "df['SO2'].isna().sum()"
   ]
  },
  {
   "cell_type": "code",
   "execution_count": 45,
   "id": "6bd685a3",
   "metadata": {},
   "outputs": [
    {
     "data": {
      "text/plain": "Date              0\nPM10            190\nPM2.5           190\nSO2               0\nCO              191\nO3             1455\nNO2             191\nCategory          2\nHealthIndex       0\ndtype: int64"
     },
     "execution_count": 45,
     "metadata": {},
     "output_type": "execute_result"
    }
   ],
   "source": [
    "df.isna().sum()"
   ]
  },
  {
   "cell_type": "code",
   "execution_count": 46,
   "id": "0f16ceb3",
   "metadata": {},
   "outputs": [
    {
     "data": {
      "text/plain": "0"
     },
     "execution_count": 46,
     "metadata": {},
     "output_type": "execute_result"
    }
   ],
   "source": [
    "rata_cate = df['O3'].mean()\n",
    "df['O3'] = df['O3'].fillna(rata_cate)\n",
    "df['O3'].isna().sum()"
   ]
  },
  {
   "cell_type": "code",
   "execution_count": 47,
   "id": "d64c0fff",
   "metadata": {},
   "outputs": [
    {
     "data": {
      "text/plain": "0"
     },
     "execution_count": 47,
     "metadata": {},
     "output_type": "execute_result"
    }
   ],
   "source": [
    "rata_cate = df['NO2'].mean()\n",
    "df['NO2'] = df['NO2'].fillna(rata_cate)\n",
    "df['NO2'].isna().sum()"
   ]
  },
  {
   "cell_type": "code",
   "execution_count": 48,
   "id": "ce5d7530",
   "metadata": {},
   "outputs": [
    {
     "data": {
      "text/plain": "0"
     },
     "execution_count": 48,
     "metadata": {},
     "output_type": "execute_result"
    }
   ],
   "source": [
    "rata_cate = df['PM10'].mean()\n",
    "df['PM10'] = df['PM10'].fillna(rata_cate)\n",
    "df['PM10'].isna().sum()"
   ]
  },
  {
   "cell_type": "code",
   "execution_count": 49,
   "id": "d3251a5a",
   "metadata": {},
   "outputs": [
    {
     "data": {
      "text/plain": "0"
     },
     "execution_count": 49,
     "metadata": {},
     "output_type": "execute_result"
    }
   ],
   "source": [
    "rata_cate = df['PM10'].mean()\n",
    "df['PM10'] = df['PM10'].fillna(rata_cate)\n",
    "df['PM10'].isna().sum()"
   ]
  },
  {
   "cell_type": "code",
   "execution_count": 50,
   "id": "4910a48e",
   "metadata": {},
   "outputs": [
    {
     "data": {
      "text/plain": "Date             0\nPM10             0\nPM2.5          190\nSO2              0\nCO             191\nO3               0\nNO2              0\nCategory         2\nHealthIndex      0\ndtype: int64"
     },
     "execution_count": 50,
     "metadata": {},
     "output_type": "execute_result"
    }
   ],
   "source": [
    "df.isna().sum()"
   ]
  },
  {
   "cell_type": "code",
   "execution_count": 51,
   "id": "c42a6793",
   "metadata": {},
   "outputs": [
    {
     "data": {
      "text/plain": "0"
     },
     "execution_count": 51,
     "metadata": {},
     "output_type": "execute_result"
    }
   ],
   "source": [
    "rata_cate = df['PM2.5'].mean()\n",
    "df['PM2.5'] = df['PM2.5'].fillna(rata_cate)\n",
    "df['PM2.5'].isna().sum()"
   ]
  },
  {
   "cell_type": "code",
   "execution_count": 52,
   "id": "610be658",
   "metadata": {},
   "outputs": [
    {
     "data": {
      "text/plain": "0"
     },
     "execution_count": 52,
     "metadata": {},
     "output_type": "execute_result"
    }
   ],
   "source": [
    "rata_cate = df['CO'].mean()\n",
    "df['CO'] = df['CO'].fillna(rata_cate)\n",
    "df['CO'].isna().sum()"
   ]
  },
  {
   "cell_type": "code",
   "execution_count": 53,
   "id": "e7f7ad5d",
   "metadata": {},
   "outputs": [
    {
     "data": {
      "text/plain": "                Date  PM10  PM2.5  SO2    CO   O3  NO2 Category  HealthIndex\n0  1/1/2021 00:00:00  13.0   40.0  0.0  25.0  0.0  0.0     BAIK            1\n1  1/1/2021 01:00:00  12.0   38.0  0.0  24.0  0.0  0.0     BAIK            1\n2  1/1/2021 02:00:00  11.0   35.0  0.0  23.0  0.0  0.0     BAIK            1\n3  1/1/2021 03:00:00  10.0   32.0  0.0  22.0  0.0  0.0     BAIK            1\n4  1/1/2021 04:00:00   9.0   29.0  0.0  21.0  0.0  0.0     BAIK            1",
      "text/html": "<div>\n<style scoped>\n    .dataframe tbody tr th:only-of-type {\n        vertical-align: middle;\n    }\n\n    .dataframe tbody tr th {\n        vertical-align: top;\n    }\n\n    .dataframe thead th {\n        text-align: right;\n    }\n</style>\n<table border=\"1\" class=\"dataframe\">\n  <thead>\n    <tr style=\"text-align: right;\">\n      <th></th>\n      <th>Date</th>\n      <th>PM10</th>\n      <th>PM2.5</th>\n      <th>SO2</th>\n      <th>CO</th>\n      <th>O3</th>\n      <th>NO2</th>\n      <th>Category</th>\n      <th>HealthIndex</th>\n    </tr>\n  </thead>\n  <tbody>\n    <tr>\n      <th>0</th>\n      <td>1/1/2021 00:00:00</td>\n      <td>13.0</td>\n      <td>40.0</td>\n      <td>0.0</td>\n      <td>25.0</td>\n      <td>0.0</td>\n      <td>0.0</td>\n      <td>BAIK</td>\n      <td>1</td>\n    </tr>\n    <tr>\n      <th>1</th>\n      <td>1/1/2021 01:00:00</td>\n      <td>12.0</td>\n      <td>38.0</td>\n      <td>0.0</td>\n      <td>24.0</td>\n      <td>0.0</td>\n      <td>0.0</td>\n      <td>BAIK</td>\n      <td>1</td>\n    </tr>\n    <tr>\n      <th>2</th>\n      <td>1/1/2021 02:00:00</td>\n      <td>11.0</td>\n      <td>35.0</td>\n      <td>0.0</td>\n      <td>23.0</td>\n      <td>0.0</td>\n      <td>0.0</td>\n      <td>BAIK</td>\n      <td>1</td>\n    </tr>\n    <tr>\n      <th>3</th>\n      <td>1/1/2021 03:00:00</td>\n      <td>10.0</td>\n      <td>32.0</td>\n      <td>0.0</td>\n      <td>22.0</td>\n      <td>0.0</td>\n      <td>0.0</td>\n      <td>BAIK</td>\n      <td>1</td>\n    </tr>\n    <tr>\n      <th>4</th>\n      <td>1/1/2021 04:00:00</td>\n      <td>9.0</td>\n      <td>29.0</td>\n      <td>0.0</td>\n      <td>21.0</td>\n      <td>0.0</td>\n      <td>0.0</td>\n      <td>BAIK</td>\n      <td>1</td>\n    </tr>\n  </tbody>\n</table>\n</div>"
     },
     "execution_count": 53,
     "metadata": {},
     "output_type": "execute_result"
    }
   ],
   "source": [
    "df.head(5)"
   ]
  },
  {
   "cell_type": "code",
   "execution_count": 54,
   "id": "a1fa5789",
   "metadata": {},
   "outputs": [
    {
     "data": {
      "text/plain": "              PM10        PM2.5          SO2           CO           O3  \\\ncount  8760.000000  8760.000000  8760.000000  8760.000000  8760.000000   \nmean     25.969895    41.947025    18.926505    13.431206    22.595893   \nstd      17.192537    26.109424    13.269671     7.197773    16.213839   \nmin       0.000000     0.000000     0.000000     0.000000     0.000000   \n25%      14.000000    23.000000    12.000000     8.000000    10.000000   \n50%      20.000000    38.000000    18.926505    12.000000    22.595893   \n75%      33.000000    58.000000    23.000000    19.000000    31.000000   \nmax     179.000000   174.000000    82.000000    43.000000   151.000000   \n\n               NO2  HealthIndex  \ncount  8760.000000  8760.000000  \nmean      6.930447     0.591781  \nstd       7.443623     0.491532  \nmin       0.000000     0.000000  \n25%       3.000000     0.000000  \n50%       5.000000     1.000000  \n75%       7.000000     1.000000  \nmax      63.000000     1.000000  ",
      "text/html": "<div>\n<style scoped>\n    .dataframe tbody tr th:only-of-type {\n        vertical-align: middle;\n    }\n\n    .dataframe tbody tr th {\n        vertical-align: top;\n    }\n\n    .dataframe thead th {\n        text-align: right;\n    }\n</style>\n<table border=\"1\" class=\"dataframe\">\n  <thead>\n    <tr style=\"text-align: right;\">\n      <th></th>\n      <th>PM10</th>\n      <th>PM2.5</th>\n      <th>SO2</th>\n      <th>CO</th>\n      <th>O3</th>\n      <th>NO2</th>\n      <th>HealthIndex</th>\n    </tr>\n  </thead>\n  <tbody>\n    <tr>\n      <th>count</th>\n      <td>8760.000000</td>\n      <td>8760.000000</td>\n      <td>8760.000000</td>\n      <td>8760.000000</td>\n      <td>8760.000000</td>\n      <td>8760.000000</td>\n      <td>8760.000000</td>\n    </tr>\n    <tr>\n      <th>mean</th>\n      <td>25.969895</td>\n      <td>41.947025</td>\n      <td>18.926505</td>\n      <td>13.431206</td>\n      <td>22.595893</td>\n      <td>6.930447</td>\n      <td>0.591781</td>\n    </tr>\n    <tr>\n      <th>std</th>\n      <td>17.192537</td>\n      <td>26.109424</td>\n      <td>13.269671</td>\n      <td>7.197773</td>\n      <td>16.213839</td>\n      <td>7.443623</td>\n      <td>0.491532</td>\n    </tr>\n    <tr>\n      <th>min</th>\n      <td>0.000000</td>\n      <td>0.000000</td>\n      <td>0.000000</td>\n      <td>0.000000</td>\n      <td>0.000000</td>\n      <td>0.000000</td>\n      <td>0.000000</td>\n    </tr>\n    <tr>\n      <th>25%</th>\n      <td>14.000000</td>\n      <td>23.000000</td>\n      <td>12.000000</td>\n      <td>8.000000</td>\n      <td>10.000000</td>\n      <td>3.000000</td>\n      <td>0.000000</td>\n    </tr>\n    <tr>\n      <th>50%</th>\n      <td>20.000000</td>\n      <td>38.000000</td>\n      <td>18.926505</td>\n      <td>12.000000</td>\n      <td>22.595893</td>\n      <td>5.000000</td>\n      <td>1.000000</td>\n    </tr>\n    <tr>\n      <th>75%</th>\n      <td>33.000000</td>\n      <td>58.000000</td>\n      <td>23.000000</td>\n      <td>19.000000</td>\n      <td>31.000000</td>\n      <td>7.000000</td>\n      <td>1.000000</td>\n    </tr>\n    <tr>\n      <th>max</th>\n      <td>179.000000</td>\n      <td>174.000000</td>\n      <td>82.000000</td>\n      <td>43.000000</td>\n      <td>151.000000</td>\n      <td>63.000000</td>\n      <td>1.000000</td>\n    </tr>\n  </tbody>\n</table>\n</div>"
     },
     "execution_count": 54,
     "metadata": {},
     "output_type": "execute_result"
    }
   ],
   "source": [
    "df.describe()"
   ]
  },
  {
   "cell_type": "code",
   "execution_count": 55,
   "id": "b68132a4",
   "metadata": {},
   "outputs": [
    {
     "name": "stdout",
     "output_type": "stream",
     "text": [
      "<class 'pandas.core.frame.DataFrame'>\n",
      "RangeIndex: 8760 entries, 0 to 8759\n",
      "Data columns (total 9 columns):\n",
      " #   Column       Non-Null Count  Dtype  \n",
      "---  ------       --------------  -----  \n",
      " 0   Date         8760 non-null   object \n",
      " 1   PM10         8760 non-null   float64\n",
      " 2   PM2.5        8760 non-null   float64\n",
      " 3   SO2          8760 non-null   float64\n",
      " 4   CO           8760 non-null   float64\n",
      " 5   O3           8760 non-null   float64\n",
      " 6   NO2          8760 non-null   float64\n",
      " 7   Category     8758 non-null   object \n",
      " 8   HealthIndex  8760 non-null   int32  \n",
      "dtypes: float64(6), int32(1), object(2)\n",
      "memory usage: 581.8+ KB\n"
     ]
    }
   ],
   "source": [
    "df.info()"
   ]
  },
  {
   "cell_type": "code",
   "execution_count": 56,
   "id": "1bf58da8-0526-4f0c-9665-9a18491ecce3",
   "metadata": {},
   "outputs": [],
   "source": [
    "df = df[['PM10', 'PM2.5', 'SO2', 'CO', 'O3', 'NO2','HealthIndex']]"
   ]
  },
  {
   "cell_type": "code",
   "execution_count": 57,
   "id": "ee9bf324",
   "metadata": {},
   "outputs": [
    {
     "name": "stdout",
     "output_type": "stream",
     "text": [
      "0    5085\n",
      "1    4876\n",
      "Name: HealthIndex, dtype: int64\n"
     ]
    }
   ],
   "source": [
    "from imblearn.combine import SMOTEENN\n",
    "\n",
    "X = df.drop(['HealthIndex'],axis=1) \n",
    "y = df['HealthIndex'] \n",
    " \n",
    "smt = SMOTEENN(random_state=42) \n",
    "X, y = smt.fit_resample(X, y) \n",
    "print(y.value_counts())"
   ]
  },
  {
   "cell_type": "code",
   "execution_count": 58,
   "id": "8ad3546b-6f7c-4995-9385-e4f70e77f2c2",
   "metadata": {},
   "outputs": [
    {
     "data": {
      "text/plain": "<AxesSubplot: >"
     },
     "execution_count": 58,
     "metadata": {},
     "output_type": "execute_result"
    },
    {
     "data": {
      "text/plain": "<Figure size 640x480 with 1 Axes>",
      "image/png": "[encoded data removed]"
     },
     "metadata": {},
     "output_type": "display_data"
    }
   ],
   "source": [
    "y.hist()"
   ]
  },
  {
   "cell_type": "code",
   "execution_count": 59,
   "outputs": [
    {
     "data": {
      "text/plain": "      PM10  PM2.5   SO2    CO    O3   NO2  HealthIndex\n0     13.0   53.0   0.0  23.0  11.0   0.0            0\n1     14.0   55.0   0.0  24.0  13.0   0.0            0\n2     15.0   56.0   0.0  24.0  13.0   0.0            0\n3     17.0   57.0   0.0  24.0  14.0   0.0            0\n4     18.0   58.0   0.0  24.0  15.0   0.0            0\n...    ...    ...   ...   ...   ...   ...          ...\n9956  15.0    0.0  10.0  21.0   1.0  11.0            1\n9957  16.0    0.0  10.0  21.0   1.0  11.0            1\n9958  17.0    0.0  10.0  21.0   1.0  11.0            1\n9959  18.0    0.0  10.0  21.0   1.0  11.0            1\n9960  18.0    0.0  10.0  21.0   1.0  11.0            1\n\n[9961 rows x 7 columns]",
      "text/html": "<div>\n<style scoped>\n    .dataframe tbody tr th:only-of-type {\n        vertical-align: middle;\n    }\n\n    .dataframe tbody tr th {\n        vertical-align: top;\n    }\n\n    .dataframe thead th {\n        text-align: right;\n    }\n</style>\n<table border=\"1\" class=\"dataframe\">\n  <thead>\n    <tr style=\"text-align: right;\">\n      <th></th>\n      <th>PM10</th>\n      <th>PM2.5</th>\n      <th>SO2</th>\n      <th>CO</th>\n      <th>O3</th>\n      <th>NO2</th>\n      <th>HealthIndex</th>\n    </tr>\n  </thead>\n  <tbody>\n    <tr>\n      <th>0</th>\n      <td>13.0</td>\n      <td>53.0</td>\n      <td>0.0</td>\n      <td>23.0</td>\n      <td>11.0</td>\n      <td>0.0</td>\n      <td>0</td>\n    </tr>\n    <tr>\n      <th>1</th>\n      <td>14.0</td>\n      <td>55.0</td>\n      <td>0.0</td>\n      <td>24.0</td>\n      <td>13.0</td>\n      <td>0.0</td>\n      <td>0</td>\n    </tr>\n    <tr>\n      <th>2</th>\n      <td>15.0</td>\n      <td>56.0</td>\n      <td>0.0</td>\n      <td>24.0</td>\n      <td>13.0</td>\n      <td>0.0</td>\n      <td>0</td>\n    </tr>\n    <tr>\n      <th>3</th>\n      <td>17.0</td>\n      <td>57.0</td>\n      <td>0.0</td>\n      <td>24.0</td>\n      <td>14.0</td>\n      <td>0.0</td>\n      <td>0</td>\n    </tr>\n    <tr>\n      <th>4</th>\n      <td>18.0</td>\n      <td>58.0</td>\n      <td>0.0</td>\n      <td>24.0</td>\n      <td>15.0</td>\n      <td>0.0</td>\n      <td>0</td>\n    </tr>\n    <tr>\n      <th>...</th>\n      <td>...</td>\n      <td>...</td>\n      <td>...</td>\n      <td>...</td>\n      <td>...</td>\n      <td>...</td>\n      <td>...</td>\n    </tr>\n    <tr>\n      <th>9956</th>\n      <td>15.0</td>\n      <td>0.0</td>\n      <td>10.0</td>\n      <td>21.0</td>\n      <td>1.0</td>\n      <td>11.0</td>\n      <td>1</td>\n    </tr>\n    <tr>\n      <th>9957</th>\n      <td>16.0</td>\n      <td>0.0</td>\n      <td>10.0</td>\n      <td>21.0</td>\n      <td>1.0</td>\n      <td>11.0</td>\n      <td>1</td>\n    </tr>\n    <tr>\n      <th>9958</th>\n      <td>17.0</td>\n      <td>0.0</td>\n      <td>10.0</td>\n      <td>21.0</td>\n      <td>1.0</td>\n      <td>11.0</td>\n      <td>1</td>\n    </tr>\n    <tr>\n      <th>9959</th>\n      <td>18.0</td>\n      <td>0.0</td>\n      <td>10.0</td>\n      <td>21.0</td>\n      <td>1.0</td>\n      <td>11.0</td>\n      <td>1</td>\n    </tr>\n    <tr>\n      <th>9960</th>\n      <td>18.0</td>\n      <td>0.0</td>\n      <td>10.0</td>\n      <td>21.0</td>\n      <td>1.0</td>\n      <td>11.0</td>\n      <td>1</td>\n    </tr>\n  </tbody>\n</table>\n<p>9961 rows × 7 columns</p>\n</div>"
     },
     "execution_count": 59,
     "metadata": {},
     "output_type": "execute_result"
    }
   ],
   "source": [
    "X['HealthIndex'] = y\n",
    "\n",
    "X"
   ],
   "metadata": {
    "collapsed": false
   }
  },
  {
   "cell_type": "code",
   "execution_count": 60,
   "outputs": [
    {
     "name": "stdout",
     "output_type": "stream",
     "text": [
      "GNB Accuracy: 90.60%\n",
      "AUC-ROC: 0.9093117108862329\n",
      "Precision: 0.8525921299188007\n",
      "Recall: 0.9680851063829787\n",
      "F1 Score: 0.9059444060361523\n",
      "              precision    recall  f1-score   support\n",
      "\n",
      "           0       0.97      0.85      0.91      1579\n",
      "           1       0.85      0.97      0.91      1410\n",
      "\n",
      "    accuracy                           0.91      2989\n",
      "   macro avg       0.91      0.91      0.91      2989\n",
      "weighted avg       0.91      0.91      0.91      2989\n",
      "\n",
      "[[1343  236]\n",
      " [  45 1365]]\n",
      "================================================================\n",
      "KNN Accuracy:  0.9956507193041151\n",
      "AUC-ROC: 0.9954280247396008\n",
      "Precision: 0.9992852037169406\n",
      "Recall: 0.9914893617021276\n",
      "F1 Score: 0.9956497518983989\n",
      "[[1578    1]\n",
      " [  12 1398]]\n",
      "              precision    recall  f1-score   support\n",
      "\n",
      "           0       0.99      1.00      1.00      1579\n",
      "           1       1.00      0.99      1.00      1410\n",
      "\n",
      "    accuracy                           1.00      2989\n",
      "   macro avg       1.00      1.00      1.00      2989\n",
      "weighted avg       1.00      1.00      1.00      2989\n",
      "\n",
      "================================================================\n",
      "SVM Accuracy:  0.9892940782870525\n",
      "AUC-ROC: 0.9888042975399639\n",
      "Precision: 0.9971139971139971\n",
      "Recall: 0.9801418439716312\n",
      "F1 Score: 0.9892885044371225\n",
      "[[1575    4]\n",
      " [  28 1382]]\n",
      "              precision    recall  f1-score   support\n",
      "\n",
      "           0       0.98      1.00      0.99      1579\n",
      "           1       1.00      0.98      0.99      1410\n",
      "\n",
      "    accuracy                           0.99      2989\n",
      "   macro avg       0.99      0.99      0.99      2989\n",
      "weighted avg       0.99      0.99      0.99      2989\n",
      "\n",
      "================================================================\n",
      "Logistic Regression Accuracy: 0.9434593509534962\n",
      "AUC-ROC: 0.9430692735774057\n",
      "Precision: 0.9435310936383131\n",
      "Recall: 0.9361702127659575\n",
      "F1 Score: 0.9434467746791879\n",
      "[[1500   79]\n",
      " [  90 1320]]\n",
      "              precision    recall  f1-score   support\n",
      "\n",
      "           0       0.94      0.95      0.95      1579\n",
      "           1       0.94      0.94      0.94      1410\n",
      "\n",
      "    accuracy                           0.94      2989\n",
      "   macro avg       0.94      0.94      0.94      2989\n",
      "weighted avg       0.94      0.94      0.94      2989\n",
      "\n",
      "================================================================\n",
      "Decision Tree Accuracy: 0.9996654399464704\n",
      "AUC-ROC: 0.999645390070922\n",
      "Precision: 1.0\n",
      "Recall: 0.999290780141844\n",
      "F1 Score: 0.999665433559744\n",
      "[[1579    0]\n",
      " [   1 1409]]\n",
      "              precision    recall  f1-score   support\n",
      "\n",
      "           0       1.00      1.00      1.00      1579\n",
      "           1       1.00      1.00      1.00      1410\n",
      "\n",
      "    accuracy                           1.00      2989\n",
      "   macro avg       1.00      1.00      1.00      2989\n",
      "weighted avg       1.00      1.00      1.00      2989\n",
      "\n",
      "================================================================\n",
      "Random Forest Accuracy: 0.9996654399464704\n",
      "AUC-ROC: 0.999683343888537\n",
      "Precision: 0.9992912827781715\n",
      "Recall: 1.0\n",
      "F1 Score: 0.9996654462575795\n",
      "[[1578    1]\n",
      " [   0 1410]]\n",
      "              precision    recall  f1-score   support\n",
      "\n",
      "           0       1.00      1.00      1.00      1579\n",
      "           1       1.00      1.00      1.00      1410\n",
      "\n",
      "    accuracy                           1.00      2989\n",
      "   macro avg       1.00      1.00      1.00      2989\n",
      "weighted avg       1.00      1.00      1.00      2989\n",
      "\n",
      "================================================================\n",
      "DT Predicted class label: 0\n",
      "RF Predicted class label: 0\n",
      "SVM Predicted class label: 0\n",
      "LR Predicted class label: 0\n",
      "KNN Predicted class label: 0\n",
      "GNB Predicted class label: 0\n"
     ]
    }
   ],
   "source": [
    "from sklearn.naive_bayes import GaussianNB\n",
    "from sklearn.model_selection import train_test_split\n",
    "from sklearn.metrics import accuracy_score, classification_report, confusion_matrix, roc_auc_score, precision_score, recall_score,f1_score\n",
    "from sklearn.linear_model import LogisticRegression\n",
    "from sklearn.tree import DecisionTreeClassifier\n",
    "from sklearn.ensemble import RandomForestClassifier\n",
    "from sklearn.neighbors import KNeighborsClassifier\n",
    "from sklearn.svm import SVC\n",
    "\n",
    "# Load the data and split it into training and test sets\n",
    "X_train, X_test, y_train, y_test = train_test_split(X, y, test_size=0.3, random_state=42)\n",
    "X_train = X_train.drop(columns=['HealthIndex'])\n",
    "X_test = X_test.drop(columns=['HealthIndex'])\n",
    "\n",
    "# Instantiate the Gaussian Naive Bayes classifier\n",
    "gnb = GaussianNB()\n",
    "\n",
    "# Train the classifier on the training data\n",
    "gnb.fit(X_train, y_train)\n",
    "\n",
    "# Make predictions on the test data\n",
    "gnb_pred = gnb.predict(X_test)\n",
    "\n",
    "# Calculate the accuracy of the model\n",
    "\n",
    "#Naive Bayes classifier\n",
    "gnb_acc = accuracy_score(y_test, gnb_pred)\n",
    "print(\"GNB Accuracy: {:.2f}%\".format(gnb_acc * 100))\n",
    "print('AUC-ROC:',roc_auc_score(y_test, gnb_pred))\n",
    "print('Precision:',precision_score(y_test, gnb_pred))\n",
    "print('Recall:',recall_score(y_test, gnb_pred))\n",
    "print('F1 Score:',f1_score(y_test, gnb_pred,average='weighted'))\n",
    "\n",
    "# Print the classification report\n",
    "print(classification_report(y_test, gnb_pred))\n",
    "\n",
    "# Print the confusion matrix\n",
    "print(confusion_matrix(y_test, gnb_pred))\n",
    "\n",
    "\n",
    "print('================================================================')\n",
    "\n",
    "# KNN Classifier\n",
    "knn = KNeighborsClassifier(n_neighbors=3)\n",
    "knn.fit(X_train, y_train)\n",
    "knn_pred = knn.predict(X_test)\n",
    "knn_accuracy = accuracy_score(y_test, knn_pred)\n",
    "\n",
    "print(\"KNN Accuracy: \", knn_accuracy)\n",
    "print('AUC-ROC:',roc_auc_score(y_test, knn_pred))\n",
    "print('Precision:',precision_score(y_test, knn_pred))\n",
    "print('Recall:',recall_score(y_test, knn_pred))\n",
    "print('F1 Score:',f1_score(y_test, knn_pred,average='weighted'))\n",
    "print(confusion_matrix(y_test, knn_pred))\n",
    "print(classification_report(y_test, knn_pred))\n",
    "print('================================================================')\n",
    "# SVM Classifier\n",
    "svm = SVC()\n",
    "svm.fit(X_train, y_train)\n",
    "svm_pred = svm.predict(X_test)\n",
    "svm_accuracy = accuracy_score(y_test, svm_pred)\n",
    "print(\"SVM Accuracy: \", svm_accuracy)\n",
    "print('AUC-ROC:',roc_auc_score(y_test, svm_pred))\n",
    "print('Precision:',precision_score(y_test, svm_pred))\n",
    "print('Recall:',recall_score(y_test, svm_pred))\n",
    "print('F1 Score:',f1_score(y_test, svm_pred,average='weighted'))\n",
    "print(confusion_matrix(y_test, svm_pred))\n",
    "print(classification_report(y_test, svm_pred))\n",
    "print('================================================================')\n",
    "\n",
    "# train and evaluate a logistic regression model\n",
    "lr = LogisticRegression()\n",
    "lr.fit(X_train, y_train)\n",
    "lr_predictions = lr.predict(X_test)\n",
    "lr_accuracy = accuracy_score(y_test, lr_predictions)\n",
    "print(\"Logistic Regression Accuracy:\", lr_accuracy)\n",
    "print('AUC-ROC:',roc_auc_score(y_test, lr_predictions))\n",
    "print('Precision:',precision_score(y_test, lr_predictions))\n",
    "print('Recall:',recall_score(y_test, lr_predictions))\n",
    "print('F1 Score:',f1_score(y_test, lr_predictions,average='weighted'))\n",
    "print(confusion_matrix(y_test, lr_predictions))\n",
    "print(classification_report(y_test, lr_predictions))\n",
    "print('================================================================')\n",
    "# train and evaluate a decision tree model\n",
    "dt = DecisionTreeClassifier()\n",
    "dt.fit(X_train, y_train)\n",
    "dt_predictions = dt.predict(X_test)\n",
    "dt_accuracy = accuracy_score(y_test, dt_predictions)\n",
    "print(\"Decision Tree Accuracy:\", dt_accuracy)\n",
    "print('AUC-ROC:',roc_auc_score(y_test, dt_predictions))\n",
    "print('Precision:',precision_score(y_test, dt_predictions))\n",
    "print('Recall:',recall_score(y_test, dt_predictions))\n",
    "print('F1 Score:',f1_score(y_test, dt_predictions,average='weighted'))\n",
    "print(confusion_matrix(y_test, dt_predictions))\n",
    "print(classification_report(y_test, dt_predictions))\n",
    "print('================================================================')\n",
    "\n",
    "# train and evaluate a random forest model\n",
    "rf = RandomForestClassifier()\n",
    "rf.fit(X_train, y_train)\n",
    "rf_predictions = rf.predict(X_test)\n",
    "rf_accuracy = accuracy_score(y_test, rf_predictions)\n",
    "print(\"Random Forest Accuracy:\", rf_accuracy)\n",
    "print('AUC-ROC:',roc_auc_score(y_test, rf_predictions))\n",
    "print('Precision:',precision_score(y_test, rf_predictions))\n",
    "print('Recall:',recall_score(y_test, rf_predictions))\n",
    "print('F1 Score:',f1_score(y_test, rf_predictions,average='weighted'))\n",
    "print(confusion_matrix(y_test, rf_predictions))\n",
    "print(classification_report(y_test, rf_predictions))\n",
    "print('================================================================')\n",
    "\n",
    "\n",
    "\n",
    "def coba_prediksi():\n",
    "    # Accept input from the user\n",
    "    user_input = input(\"Enter multiple values separated by comma: \")\n",
    "    # Convert the input string into a list\n",
    "    input_list = user_input.split(',')\n",
    "    # Create a DataFrame from the input list\n",
    "    Xx_test = pd.DataFrame([input_list], columns=['PM10', 'PM2.5', 'SO2', 'CO', 'O3', 'NO2' ])\n",
    "    # Predict the class label for the input data\n",
    "    dt_predicted_label = dt.predict(Xx_test)\n",
    "    rf_predicted_label = rf.predict(Xx_test)\n",
    "    svm_predicted_label = svm.predict(Xx_test)\n",
    "    lr_predicted_label = lr.predict(Xx_test)\n",
    "    knn_predicted_label = knn.predict(Xx_test)\n",
    "    gnb_predicted_label = gnb.predict(Xx_test)\n",
    "    print(\"DT Predicted class label:\", dt_predicted_label[0])\n",
    "    print(\"RF Predicted class label:\", rf_predicted_label[0])\n",
    "    print(\"SVM Predicted class label:\", svm_predicted_label[0])\n",
    "    print(\"LR Predicted class label:\", lr_predicted_label[0])\n",
    "    print(\"KNN Predicted class label:\", knn_predicted_label[0])\n",
    "    print(\"GNB Predicted class label:\", gnb_predicted_label[0])\n",
    "\n",
    "coba_prediksi()"
   ],
   "metadata": {
    "collapsed": false
   }
  }
 ],
 "metadata": {
  "kernelspec": {
   "display_name": "Python 3 (ipykernel)",
   "language": "python",
   "name": "python3"
  },
  "language_info": {
   "codemirror_mode": {
    "name": "ipython",
    "version": 3
   },
   "file_extension": ".py",
   "mimetype": "text/x-python",
   "name": "python",
   "nbconvert_exporter": "python",
   "pygments_lexer": "ipython3",
   "version": "3.9.13"
  }
 },
 "nbformat": 4,
 "nbformat_minor": 5
}

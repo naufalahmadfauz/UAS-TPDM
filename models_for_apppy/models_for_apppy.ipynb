{
 "cells": [
  {
   "cell_type": "code",
   "execution_count": null,
   "id": "0e4a4ae7-c095-4270-a7a8-24d64ffcbeb4",
   "metadata": {},
   "outputs": [],
   "source": [
    "import pandas as pd\n",
    "import numpy as np\n",
    "import matplotlib.pyplot"
   ]
  },
  {
   "cell_type": "code",
   "execution_count": null,
   "id": "ae7763c6-569e-4001-8522-957e58b2c10c",
   "metadata": {},
   "outputs": [],
   "source": [
    "df = pd.read_csv('dataset.csv')\n",
    "df.describe()"
   ]
  },
  {
   "cell_type": "code",
   "execution_count": null,
   "id": "50ef424b-3fc1-4fa7-becf-2ceb1236ff2d",
   "metadata": {},
   "outputs": [],
   "source": [
    "print(\"Column datatypes: \")\n",
    "print(df.dtypes)"
   ]
  },
  {
   "cell_type": "code",
   "execution_count": null,
   "id": "268365f6-6055-401a-b120-7d634d77d356",
   "metadata": {},
   "outputs": [],
   "source": [
    "print(\"Missing values distribution: \")\n",
    "print(df.isnull().mean())\n",
    "print(\"\")"
   ]
  },
  {
   "cell_type": "code",
   "execution_count": null,
   "id": "2375530d-a462-4d5b-9c0a-fc4eee87f35d",
   "metadata": {},
   "outputs": [],
   "source": [
    "df['HealthIndex'] = np.where(df['Category']=='BAIK', 1,0)"
   ]
  },
  {
   "cell_type": "code",
   "execution_count": null,
   "id": "1f1254e6-993e-468d-bcf6-78085420bb99",
   "metadata": {},
   "outputs": [],
   "source": [
    "df.head(5)"
   ]
  },
  {
   "cell_type": "code",
   "execution_count": null,
   "id": "cc8a98f7-1a9e-47c9-9c97-562e3d870601",
   "metadata": {},
   "outputs": [],
   "source": [
    "df[\"Category\"].hist()"
   ]
  },
  {
   "cell_type": "code",
   "execution_count": null,
   "id": "29d64b1d-ebbd-49f8-b451-41b246638c68",
   "metadata": {},
   "outputs": [],
   "source": [
    "df[\"HealthIndex\"].hist()"
   ]
  },
  {
   "cell_type": "code",
   "execution_count": null,
   "id": "8c1ca235",
   "metadata": {},
   "outputs": [],
   "source": [
    "df.head()"
   ]
  },
  {
   "cell_type": "code",
   "execution_count": null,
   "id": "5777d610",
   "metadata": {},
   "outputs": [],
   "source": [
    "to_drop = ['Max',\n",
    "           'Critical Component']"
   ]
  },
  {
   "cell_type": "code",
   "execution_count": null,
   "id": "3e1d80b4",
   "metadata": {},
   "outputs": [],
   "source": [
    "df.drop(to_drop, inplace=True, axis=1)"
   ]
  },
  {
   "cell_type": "code",
   "execution_count": null,
   "id": "929d9103",
   "metadata": {},
   "outputs": [],
   "source": [
    "df.head()"
   ]
  },
  {
   "cell_type": "code",
   "execution_count": null,
   "id": "1ee4f221",
   "metadata": {},
   "outputs": [],
   "source": [
    "df.isna().sum()"
   ]
  },
  {
   "cell_type": "code",
   "execution_count": null,
   "id": "c08ef2b0",
   "metadata": {},
   "outputs": [],
   "source": [
    "rata_cate = df['SO2'].mean()\n",
    "df['SO2'] = df['SO2'].fillna(rata_cate)\n",
    "df['SO2'].isna().sum()"
   ]
  },
  {
   "cell_type": "code",
   "execution_count": null,
   "id": "6bd685a3",
   "metadata": {},
   "outputs": [],
   "source": [
    "df.isna().sum()"
   ]
  },
  {
   "cell_type": "code",
   "execution_count": null,
   "id": "0f16ceb3",
   "metadata": {},
   "outputs": [],
   "source": [
    "rata_cate = df['O3'].mean()\n",
    "df['O3'] = df['O3'].fillna(rata_cate)\n",
    "df['O3'].isna().sum()"
   ]
  },
  {
   "cell_type": "code",
   "execution_count": null,
   "id": "d64c0fff",
   "metadata": {},
   "outputs": [],
   "source": [
    "rata_cate = df['NO2'].mean()\n",
    "df['NO2'] = df['NO2'].fillna(rata_cate)\n",
    "df['NO2'].isna().sum()"
   ]
  },
  {
   "cell_type": "code",
   "execution_count": null,
   "id": "ce5d7530",
   "metadata": {},
   "outputs": [],
   "source": [
    "rata_cate = df['PM10'].mean()\n",
    "df['PM10'] = df['PM10'].fillna(rata_cate)\n",
    "df['PM10'].isna().sum()"
   ]
  },
  {
   "cell_type": "code",
   "execution_count": null,
   "id": "d3251a5a",
   "metadata": {},
   "outputs": [],
   "source": [
    "rata_cate = df['PM10'].mean()\n",
    "df['PM10'] = df['PM10'].fillna(rata_cate)\n",
    "df['PM10'].isna().sum()"
   ]
  },
  {
   "cell_type": "code",
   "execution_count": null,
   "id": "4910a48e",
   "metadata": {},
   "outputs": [],
   "source": [
    "df.isna().sum()"
   ]
  },
  {
   "cell_type": "code",
   "execution_count": null,
   "id": "c42a6793",
   "metadata": {},
   "outputs": [],
   "source": [
    "rata_cate = df['PM2.5'].mean()\n",
    "df['PM2.5'] = df['PM2.5'].fillna(rata_cate)\n",
    "df['PM2.5'].isna().sum()"
   ]
  },
  {
   "cell_type": "code",
   "execution_count": null,
   "id": "610be658",
   "metadata": {},
   "outputs": [],
   "source": [
    "rata_cate = df['CO'].mean()\n",
    "df['CO'] = df['CO'].fillna(rata_cate)\n",
    "df['CO'].isna().sum()"
   ]
  },
  {
   "cell_type": "code",
   "execution_count": null,
   "id": "e7f7ad5d",
   "metadata": {},
   "outputs": [],
   "source": [
    "df.head(5)"
   ]
  },
  {
   "cell_type": "code",
   "execution_count": null,
   "id": "a1fa5789",
   "metadata": {},
   "outputs": [],
   "source": [
    "df.describe()"
   ]
  },
  {
   "cell_type": "code",
   "execution_count": null,
   "id": "b68132a4",
   "metadata": {},
   "outputs": [],
   "source": [
    "df.info()"
   ]
  },
  {
   "cell_type": "code",
   "execution_count": null,
   "id": "1bf58da8-0526-4f0c-9665-9a18491ecce3",
   "metadata": {},
   "outputs": [],
   "source": [
    "df = df[['PM10', 'PM2.5', 'SO2', 'CO', 'O3', 'NO2','HealthIndex']]"
   ]
  },
  {
   "cell_type": "code",
   "execution_count": null,
   "id": "ee9bf324",
   "metadata": {},
   "outputs": [],
   "source": [
    "from imblearn.combine import SMOTEENN\n",
    "\n",
    "X = df.drop(['HealthIndex'],axis=1) \n",
    "y = df['HealthIndex'] \n",
    " \n",
    "smt = SMOTEENN(random_state=42) \n",
    "X, y = smt.fit_resample(X, y) \n",
    "print(y.value_counts())"
   ]
  },
  {
   "cell_type": "code",
   "execution_count": null,
   "id": "8ad3546b-6f7c-4995-9385-e4f70e77f2c2",
   "metadata": {},
   "outputs": [],
   "source": [
    "y.hist()"
   ]
  },
  {
   "cell_type": "code",
   "execution_count": null,
   "outputs": [],
   "source": [
    "X['HealthIndex'] = y\n",
    "\n",
    "X"
   ],
   "metadata": {
    "collapsed": false
   }
  },
  {
   "cell_type": "code",
   "execution_count": null,
   "outputs": [],
   "source": [
    "from sklearn.naive_bayes import GaussianNB\n",
    "from sklearn.model_selection import train_test_split\n",
    "from sklearn.linear_model import LogisticRegression\n",
    "from sklearn.tree import DecisionTreeClassifier\n",
    "from sklearn.ensemble import RandomForestClassifier\n",
    "from sklearn.neighbors import KNeighborsClassifier\n",
    "from sklearn.svm import SVC\n",
    "import pickle\n",
    "\n",
    "X_train, X_test, y_train, y_test = train_test_split(X, y, test_size=0.3, random_state=42)\n",
    "X_train = X_train.drop(columns=['HealthIndex'])\n",
    "X_test = X_test.drop(columns=['HealthIndex'])\n",
    "gnb = GaussianNB()\n",
    "gnb.fit(X_train, y_train)\n",
    "gnb_pred = gnb.predict(X_test)\n",
    "knn = KNeighborsClassifier(n_neighbors=3)\n",
    "knn.fit(X_train, y_train)\n",
    "knn_pred = knn.predict(X_test)\n",
    "svm = SVC()\n",
    "svm.fit(X_train, y_train)\n",
    "svm_pred = svm.predict(X_test)\n",
    "lr = LogisticRegression()\n",
    "lr.fit(X_train, y_train)\n",
    "lr_predictions = lr.predict(X_test)\n",
    "dt = DecisionTreeClassifier()\n",
    "dt.fit(X_train, y_train)\n",
    "dt_predictions = dt.predict(X_test)\n",
    "rf = RandomForestClassifier()\n",
    "rf.fit(X_train, y_train)\n",
    "rf_predictions = rf.predict(X_test)\n",
    "\n",
    "filename_naive = 'model_GNB.pkl'\n",
    "filename_DT = 'model_DT.pkl'\n",
    "filename_KNN = 'model_KNN.pkl'\n",
    "filename_LR = 'model_LR.pkl'\n",
    "filename_RF = 'model_RF.pkl'\n",
    "filename_SVM = 'model_SVM.pkl'\n",
    "pickle.dump(gnb, open(filename_naive, 'wb'))\n",
    "pickle.dump(knn, open(filename_KNN, 'wb'))\n",
    "pickle.dump(svm, open(filename_SVM, 'wb'))\n",
    "pickle.dump(lr, open(filename_LR, 'wb'))\n",
    "pickle.dump(dt, open(filename_DT, 'wb'))\n",
    "pickle.dump(rf, open(filename_RF, 'wb'))"
   ],
   "metadata": {
    "collapsed": false
   }
  }
 ],
 "metadata": {
  "kernelspec": {
   "display_name": "Python 3 (ipykernel)",
   "language": "python",
   "name": "python3"
  },
  "language_info": {
   "codemirror_mode": {
    "name": "ipython",
    "version": 3
   },
   "file_extension": ".py",
   "mimetype": "text/x-python",
   "name": "python",
   "nbconvert_exporter": "python",
   "pygments_lexer": "ipython3",
   "version": "3.9.13"
  }
 },
 "nbformat": 4,
 "nbformat_minor": 5
}
